{
  "nbformat": 4,
  "nbformat_minor": 0,
  "metadata": {
    "colab": {
      "name": "main.ipynb",
      "provenance": [],
      "collapsed_sections": []
    },
    "kernelspec": {
      "name": "python3",
      "display_name": "Python 3"
    }
  },
  "cells": [
    {
      "cell_type": "code",
      "metadata": {
        "id": "2vEGMce2Fhms",
        "colab_type": "code",
        "colab": {}
      },
      "source": [
        "# import packages and libraries\n",
        "import numpy as np\n",
        "from sklearn import datasets\n",
        "import matplotlib.pyplot as plt\n",
        "import h5py\n",
        "\n",
        "%matplotlib inline"
      ],
      "execution_count": 160,
      "outputs": []
    },
    {
      "cell_type": "code",
      "metadata": {
        "id": "H1a2XW-UFlas",
        "colab_type": "code",
        "colab": {}
      },
      "source": [
        "# helper function to load data\n",
        "def load_data():\n",
        "    train_dataset = h5py.File('train_catvnoncat.h5', \"r\")\n",
        "    train_set_x_orig = np.array(train_dataset[\"train_set_x\"][:]) # your train set features\n",
        "    train_set_y_orig = np.array(train_dataset[\"train_set_y\"][:]) # your train set labels\n",
        "\n",
        "    test_dataset = h5py.File('test_catvnoncat.h5', \"r\")\n",
        "    test_set_x_orig = np.array(test_dataset[\"test_set_x\"][:]) # your test set features\n",
        "    test_set_y_orig = np.array(test_dataset[\"test_set_y\"][:]) # your test set labels\n",
        "\n",
        "    classes = np.array(test_dataset[\"list_classes\"][:]) # the list of classes\n",
        "    \n",
        "    train_set_y_orig = train_set_y_orig.reshape((1, train_set_y_orig.shape[0]))\n",
        "    test_set_y_orig = test_set_y_orig.reshape((1, test_set_y_orig.shape[0]))\n",
        "    \n",
        "    return train_set_x_orig, train_set_y_orig, test_set_x_orig, test_set_y_orig, classes"
      ],
      "execution_count": 161,
      "outputs": []
    },
    {
      "cell_type": "code",
      "metadata": {
        "id": "DI-lQ-e7hbss",
        "colab_type": "code",
        "colab": {}
      },
      "source": [
        "# load the splited data\n",
        "X, Y, X_test, Y_test, _ = load_data()"
      ],
      "execution_count": 162,
      "outputs": []
    },
    {
      "cell_type": "code",
      "metadata": {
        "id": "O-slfm56s4Pp",
        "colab_type": "code",
        "colab": {
          "base_uri": "https://localhost:8080/",
          "height": 86
        },
        "outputId": "f3eee6bd-f5aa-4d4a-f684-6c7695edeab3"
      },
      "source": [
        "# print the shapes\n",
        "print(\"X train shape =\", X.shape)\n",
        "print(\"Y train shape =\", Y.shape)\n",
        "print(\"X test shape =\", X_test.shape)\n",
        "print(\"Y test shape =\", Y_test.shape)"
      ],
      "execution_count": 163,
      "outputs": [
        {
          "output_type": "stream",
          "text": [
            "X train shape = (209, 64, 64, 3)\n",
            "Y train shape = (1, 209)\n",
            "X test shape = (50, 64, 64, 3)\n",
            "Y test shape = (1, 50)\n"
          ],
          "name": "stdout"
        }
      ]
    },
    {
      "cell_type": "code",
      "metadata": {
        "id": "8h8AoSPxGyBY",
        "colab_type": "code",
        "colab": {
          "base_uri": "https://localhost:8080/",
          "height": 285
        },
        "outputId": "da8da6fc-6aa0-4bc8-a778-b57ba3abcb11"
      },
      "source": [
        "# show an example from the data\n",
        "plt.imshow(X[0])"
      ],
      "execution_count": 164,
      "outputs": [
        {
          "output_type": "execute_result",
          "data": {
            "text/plain": [
              "<matplotlib.image.AxesImage at 0x7fdf960ee710>"
            ]
          },
          "metadata": {
            "tags": []
          },
          "execution_count": 164
        },
        {
          "output_type": "display_data",
          "data": {
            "image/png": "[encoded data removed]",
            "text/plain": [
              "<Figure size 432x288 with 1 Axes>"
            ]
          },
          "metadata": {
            "tags": [],
            "needs_background": "light"
          }
        }
      ]
    },
    {
      "cell_type": "code",
      "metadata": {
        "id": "MzS60bGDGyV1",
        "colab_type": "code",
        "colab": {}
      },
      "source": [
        "# number of samples\n",
        "m = X.shape[0]\n",
        "# flatten the images\n",
        "X = X.reshape(m, -1).T\n",
        "# number of input features\n",
        "n = X.shape[0]\n",
        "# initialise the matrix of weights randomly\n",
        "W = np.random.randn(n ,1) * 0.01\n",
        "b = 0 # bias = 0\n"
      ],
      "execution_count": 165,
      "outputs": []
    },
    {
      "cell_type": "code",
      "metadata": {
        "id": "OYK_joSAJDAy",
        "colab_type": "code",
        "colab": {}
      },
      "source": [
        "# defining sigmoid function\n",
        "def sigmoid(x): \n",
        "  return 1 / (1 + np.exp(-x))"
      ],
      "execution_count": 166,
      "outputs": []
    },
    {
      "cell_type": "code",
      "metadata": {
        "id": "dHQGYBDaQC89",
        "colab_type": "code",
        "colab": {
          "base_uri": "https://localhost:8080/",
          "height": 1000
        },
        "outputId": "4a4cca72-9a8b-4235-c82a-8cc5d239de81"
      },
      "source": [
        "# training the model\n",
        "num_epochs = 800\n",
        "learning_rate = 0.0005\n",
        "print(W)\n",
        "for i in range(num_epochs):\n",
        "  # forward pass\n",
        "  A = sigmoid(W.T @ X + b)\n",
        "\n",
        "  # cost = (-1 / m) * np.sum(Y * np.log(A) + (1 - Y) * (np.log(1 - A)))\n",
        "  accuracy = np.sum(A == Y) / m\n",
        "  if i % 10 == 0:\n",
        "    print(\"Epoch =\", i, \"Accuracy = \", str(accuracy) + '%')\n",
        "  # calculate the gradients\n",
        "  dW = (1 / m) * X @ (A - Y).T\n",
        "  db = (1 / m) * np.sum(A - Y)\n",
        "  # update the weights\n",
        "  W -= learning_rate * dW\n",
        "  b -= learning_rate * db\n"
      ],
      "execution_count": 167,
      "outputs": [
        {
          "output_type": "stream",
          "text": [
            "[[ 0.00521375]\n",
            " [-0.0136573 ]\n",
            " [-0.0109373 ]\n",
            " ...\n",
            " [ 0.01003455]\n",
            " [-0.00066214]\n",
            " [ 0.00217222]]\n",
            "Epoch = 0 Accuracy =  0.06220095693779904%\n",
            "Epoch = 10 Accuracy =  0.3444976076555024%\n"
          ],
          "name": "stdout"
        },
        {
          "output_type": "stream",
          "text": [
            "/usr/local/lib/python3.6/dist-packages/ipykernel_launcher.py:3: RuntimeWarning: overflow encountered in exp\n",
            "  This is separate from the ipykernel package so we can avoid doing imports until\n"
          ],
          "name": "stderr"
        },
        {
          "output_type": "stream",
          "text": [
            "Epoch = 20 Accuracy =  0.6555023923444976%\n",
            "Epoch = 30 Accuracy =  0.6842105263157895%\n",
            "Epoch = 40 Accuracy =  0.35406698564593303%\n",
            "Epoch = 50 Accuracy =  0.6555023923444976%\n",
            "Epoch = 60 Accuracy =  0.7033492822966507%\n",
            "Epoch = 70 Accuracy =  0.41148325358851673%\n",
            "Epoch = 80 Accuracy =  0.6555023923444976%\n",
            "Epoch = 90 Accuracy =  0.6555023923444976%\n",
            "Epoch = 100 Accuracy =  0.8038277511961722%\n",
            "Epoch = 110 Accuracy =  0.7464114832535885%\n",
            "Epoch = 120 Accuracy =  0.8325358851674641%\n",
            "Epoch = 130 Accuracy =  0.6555023923444976%\n",
            "Epoch = 140 Accuracy =  0.6555023923444976%\n",
            "Epoch = 150 Accuracy =  0.6555023923444976%\n",
            "Epoch = 160 Accuracy =  0.7033492822966507%\n",
            "Epoch = 170 Accuracy =  0.8516746411483254%\n",
            "Epoch = 180 Accuracy =  0.6555023923444976%\n",
            "Epoch = 190 Accuracy =  0.6555023923444976%\n",
            "Epoch = 200 Accuracy =  0.8516746411483254%\n",
            "Epoch = 210 Accuracy =  0.6555023923444976%\n",
            "Epoch = 220 Accuracy =  0.6842105263157895%\n",
            "Epoch = 230 Accuracy =  0.8755980861244019%\n",
            "Epoch = 240 Accuracy =  0.8755980861244019%\n",
            "Epoch = 250 Accuracy =  0.8755980861244019%\n",
            "Epoch = 260 Accuracy =  0.6555023923444976%\n",
            "Epoch = 270 Accuracy =  0.69377990430622%\n",
            "Epoch = 280 Accuracy =  0.7368421052631579%\n",
            "Epoch = 290 Accuracy =  0.7559808612440191%\n",
            "Epoch = 300 Accuracy =  0.8851674641148325%\n",
            "Epoch = 310 Accuracy =  0.7894736842105263%\n",
            "Epoch = 320 Accuracy =  0.8995215311004785%\n",
            "Epoch = 330 Accuracy =  0.8755980861244019%\n",
            "Epoch = 340 Accuracy =  0.5645933014354066%\n",
            "Epoch = 350 Accuracy =  0.8708133971291866%\n",
            "Epoch = 360 Accuracy =  0.8995215311004785%\n",
            "Epoch = 370 Accuracy =  0.7703349282296651%\n",
            "Epoch = 380 Accuracy =  0.9186602870813397%\n",
            "Epoch = 390 Accuracy =  0.9282296650717703%\n",
            "Epoch = 400 Accuracy =  0.9282296650717703%\n",
            "Epoch = 410 Accuracy =  0.8708133971291866%\n",
            "Epoch = 420 Accuracy =  0.9425837320574163%\n",
            "Epoch = 430 Accuracy =  0.9090909090909091%\n",
            "Epoch = 440 Accuracy =  0.9330143540669856%\n",
            "Epoch = 450 Accuracy =  0.8660287081339713%\n",
            "Epoch = 460 Accuracy =  0.7177033492822966%\n",
            "Epoch = 470 Accuracy =  0.9090909090909091%\n",
            "Epoch = 480 Accuracy =  0.9234449760765551%\n",
            "Epoch = 490 Accuracy =  0.4258373205741627%\n",
            "Epoch = 500 Accuracy =  0.9473684210526315%\n",
            "Epoch = 510 Accuracy =  0.9521531100478469%\n",
            "Epoch = 520 Accuracy =  0.9569377990430622%\n",
            "Epoch = 530 Accuracy =  0.9473684210526315%\n",
            "Epoch = 540 Accuracy =  0.4784688995215311%\n",
            "Epoch = 550 Accuracy =  0.9521531100478469%\n",
            "Epoch = 560 Accuracy =  0.9665071770334929%\n",
            "Epoch = 570 Accuracy =  0.9712918660287081%\n",
            "Epoch = 580 Accuracy =  0.9473684210526315%\n",
            "Epoch = 590 Accuracy =  0.9760765550239234%\n",
            "Epoch = 600 Accuracy =  0.9856459330143541%\n",
            "Epoch = 610 Accuracy =  0.9808612440191388%\n",
            "Epoch = 620 Accuracy =  0.9952153110047847%\n",
            "Epoch = 630 Accuracy =  0.9952153110047847%\n",
            "Epoch = 640 Accuracy =  0.9952153110047847%\n",
            "Epoch = 650 Accuracy =  0.9952153110047847%\n",
            "Epoch = 660 Accuracy =  0.9952153110047847%\n",
            "Epoch = 670 Accuracy =  0.9952153110047847%\n",
            "Epoch = 680 Accuracy =  0.9952153110047847%\n",
            "Epoch = 690 Accuracy =  0.9952153110047847%\n",
            "Epoch = 700 Accuracy =  0.9952153110047847%\n",
            "Epoch = 710 Accuracy =  0.9952153110047847%\n",
            "Epoch = 720 Accuracy =  0.9952153110047847%\n",
            "Epoch = 730 Accuracy =  0.9952153110047847%\n",
            "Epoch = 740 Accuracy =  0.9952153110047847%\n",
            "Epoch = 750 Accuracy =  0.9952153110047847%\n",
            "Epoch = 760 Accuracy =  0.9952153110047847%\n",
            "Epoch = 770 Accuracy =  0.9952153110047847%\n",
            "Epoch = 780 Accuracy =  0.9952153110047847%\n",
            "Epoch = 790 Accuracy =  0.9952153110047847%\n"
          ],
          "name": "stdout"
        }
      ]
    },
    {
      "cell_type": "code",
      "metadata": {
        "id": "MwdoatVdqX8x",
        "colab_type": "code",
        "colab": {
          "base_uri": "https://localhost:8080/",
          "height": 89
        },
        "outputId": "6cc6e302-440b-4f45-a460-2f4e2316f99c"
      },
      "source": [
        "# number of samples in the test set\n",
        "m_test = X_test.shape[0]\n",
        "\n",
        "# reshape the test set\n",
        "X_test = X_test.reshape(m_test, -1).T\n",
        "\n",
        "# make the predictions\n",
        "Z = W.T @ X_test + b\n",
        "A = sigmoid(Z)\n",
        "\n",
        "# calculate and print the accuracy on the test set\n",
        "accuracy = np.sum(A == Y_test) / m_test\n",
        "print(\"Accuracy =\", accuracy)"
      ],
      "execution_count": 168,
      "outputs": [
        {
          "output_type": "stream",
          "text": [
            "Accuracy = 0.7\n"
          ],
          "name": "stdout"
        },
        {
          "output_type": "stream",
          "text": [
            "/usr/local/lib/python3.6/dist-packages/ipykernel_launcher.py:3: RuntimeWarning: overflow encountered in exp\n",
            "  This is separate from the ipykernel package so we can avoid doing imports until\n"
          ],
          "name": "stderr"
        }
      ]
    },
    {
      "cell_type": "code",
      "metadata": {
        "id": "ZJsV-xhVxZ0b",
        "colab_type": "code",
        "colab": {}
      },
      "source": [
        "# predict the result of one image (in case you need it)\n",
        "def predict(img):\n",
        "  # reshape the image\n",
        "  img = img.reshape(1, -1).T\n",
        "  # make prediction\n",
        "  Z = W.T @ X + b\n",
        "  A = sigmoid(Z)\n",
        "  # return (1: cat, 0: non-cat)\n",
        "  if (A > 0.5): \n",
        "    return 1\n",
        "  return 0"
      ],
      "execution_count": 169,
      "outputs": []
    }
  ]
}